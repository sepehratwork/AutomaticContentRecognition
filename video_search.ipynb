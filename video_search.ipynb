{
 "cells": [
  {
   "cell_type": "code",
   "execution_count": null,
   "metadata": {
    "id": "qt1Jk-s39hkw"
   },
   "outputs": [],
   "source": [
    "# Load database"
   ]
  },
  {
   "cell_type": "code",
   "execution_count": null,
   "metadata": {
    "colab": {
     "base_uri": "https://localhost:8080/"
    },
    "id": "mxNGSykHgE5Y",
    "outputId": "6d6fbfe5-e91a-4d30-8f11-3cd1a601aca6"
   },
   "outputs": [
    {
     "name": "stdout",
     "output_type": "stream",
     "text": [
      "/content/drive/MyDrive/video-fingerprinting\n"
     ]
    }
   ],
   "source": [
    "%cd /content/drive/MyDrive/video-fingerprinting/"
   ]
  },
  {
   "cell_type": "code",
   "execution_count": null,
   "metadata": {
    "id": "lEvWLoRpgQR3"
   },
   "outputs": [],
   "source": [
    "!pip install scann\n",
    "!pip install efficientnet_pytorch"
   ]
  },
  {
   "cell_type": "code",
   "execution_count": null,
   "metadata": {
    "id": "OrOwbu8vgXO9"
   },
   "outputs": [],
   "source": [
    "import numpy as np\n",
    "import cv2\n",
    "from os import path as osp\n",
    "import glob\n",
    "from PIL import Image\n",
    "import scann\n",
    "import time\n",
    "import torch\n",
    "import pickle\n",
    "from tqdm import tqdm\n",
    "from torchvision import datasets, models, transforms"
   ]
  },
  {
   "cell_type": "code",
   "execution_count": null,
   "metadata": {
    "id": "88b4beJ39o00"
   },
   "outputs": [],
   "source": [
    "# Prepairing database for model"
   ]
  },
  {
   "cell_type": "code",
   "execution_count": null,
   "metadata": {
    "id": "7OpVejq70pI0"
   },
   "outputs": [],
   "source": [
    "data_transform =  transforms.Compose([\n",
    "    transforms.Resize((224, 224)),\n",
    "    transforms.ToTensor(),\n",
    "    transforms.Normalize([0.485, 0.456, 0.406], [0.229, 0.224, 0.225])\n",
    "])"
   ]
  },
  {
   "cell_type": "code",
   "execution_count": null,
   "metadata": {
    "id": "mGL0-vUQ-IvJ"
   },
   "outputs": [],
   "source": [
    "# Making fingerprints"
   ]
  },
  {
   "cell_type": "code",
   "execution_count": null,
   "metadata": {
    "id": "wgtoVUPR0hXx"
   },
   "outputs": [],
   "source": [
    "def extract_fp(name):\n",
    "    video_pth = glob.glob(osp.join('vcdb-dataset', name+'.*'))[0]\n",
    "    cap= cv2.VideoCapture(video_pth)\n",
    "    i = 0\n",
    "    video_fp = []\n",
    "    while(cap.isOpened()):\n",
    "        ret, frame = cap.read()\n",
    "        if ret == False:\n",
    "            break\n",
    "        i+=1\n",
    "        if i % 30 == 0:\n",
    "            frame  = Image.fromarray(frame)\n",
    "            frame = data_transform(frame).unsqueeze(0)\n",
    "            with torch.no_grad():\n",
    "                fp = model(frame.cuda())\n",
    "            video_fp.append(fp.cpu().numpy())\n",
    "    cap.release()\n",
    "    cv2.destroyAllWindows()\n",
    "    return np.array(video_fp)"
   ]
  },
  {
   "cell_type": "code",
   "execution_count": null,
   "metadata": {
    "id": "MEJu7b4J-WFB"
   },
   "outputs": [],
   "source": [
    "# Efficient model"
   ]
  },
  {
   "cell_type": "code",
   "execution_count": null,
   "metadata": {
    "id": "F86Q-Xke0un_"
   },
   "outputs": [],
   "source": [
    "# model = models.vgg16(pretrained=True).cuda()\n",
    "from efficientnet_pytorch import EfficientNet\n",
    "model = EfficientNet.from_pretrained('efficientnet-b0').cuda()"
   ]
  },
  {
   "cell_type": "code",
   "execution_count": null,
   "metadata": {
    "id": "0_N-A5Ln-bSQ"
   },
   "outputs": [],
   "source": [
    "# Training"
   ]
  },
  {
   "cell_type": "code",
   "execution_count": null,
   "metadata": {
    "id": "G6CBxmP80114"
   },
   "outputs": [],
   "source": [
    "with open('ndvr-dml/datasets/vcdb.pickle', 'rb') as f:\n",
    "    vcdb_info = pickle.load(f)\n",
    "result_vl = []\n",
    "result_fl = []\n",
    "for name in tqdm(vcdb_info['index'][:528]):\n",
    "    fp = extract_fp(name)\n",
    "    result_vl.append(fp.mean(0))\n",
    "    result_fl.append(fp)\n",
    "result_vl = np.array(result_vl)\n",
    "result_fl = np.array(result_fl)\n",
    "with open('fps_efficient_b0.npy', 'wb') as f:\n",
    "    np.save(f, result_vl)\n",
    "with open('fps_efficient_b0-fl.npy', 'wb') as f:\n",
    "    np.save(f, result_fl)"
   ]
  },
  {
   "cell_type": "code",
   "execution_count": null,
   "metadata": {
    "id": "SJhMsT4YgaMq"
   },
   "outputs": [],
   "source": [
    "dataset = np.load('fps_efficient_b0.npy').squeeze()"
   ]
  },
  {
   "cell_type": "code",
   "execution_count": null,
   "metadata": {
    "id": "yLOxplBf-fvC"
   },
   "outputs": [],
   "source": [
    "# Data normalization"
   ]
  },
  {
   "cell_type": "code",
   "execution_count": null,
   "metadata": {
    "id": "oSzS1qj-gvGd"
   },
   "outputs": [],
   "source": [
    "normalized_dataset = dataset / np.linalg.norm(dataset, axis=1)[:, np.newaxis]"
   ]
  },
  {
   "cell_type": "code",
   "execution_count": null,
   "metadata": {
    "id": "ibl22XT6-kbo"
   },
   "outputs": [],
   "source": [
    "# ScaNN search algorithm"
   ]
  },
  {
   "cell_type": "code",
   "execution_count": null,
   "metadata": {
    "id": "J7TEKaxOg1_n"
   },
   "outputs": [],
   "source": [
    "searcher = scann.scann_ops_pybind.builder(normalized_dataset, 528, \"dot_product\").tree(\n",
    "    num_leaves=528, num_leaves_to_search=528, training_sample_size=528).score_ah(\n",
    "    2, anisotropic_quantization_threshold=0.2).reorder(528).build()"
   ]
  },
  {
   "cell_type": "code",
   "execution_count": null,
   "metadata": {
    "colab": {
     "base_uri": "https://localhost:8080/"
    },
    "id": "0nUjjJMHhEc6",
    "outputId": "65d44f3c-a606-4338-bdb0-99e8063f260d"
   },
   "outputs": [
    {
     "name": "stdout",
     "output_type": "stream",
     "text": [
      "Time: 0.28555917739868164\n"
     ]
    }
   ],
   "source": [
    "start = time.time()\n",
    "neighbors, distances = searcher.search_batched(dataset)\n",
    "end = time.time()\n",
    "print(\"Time:\", end - start)"
   ]
  },
  {
   "cell_type": "code",
   "execution_count": null,
   "metadata": {
    "id": "bzm7FR3i-3K-"
   },
   "outputs": [],
   "source": [
    "# Finding similar videos"
   ]
  },
  {
   "cell_type": "code",
   "execution_count": null,
   "metadata": {
    "id": "MJ1csDPJwBAb"
   },
   "outputs": [],
   "source": [
    "our_labels = np.zeros((528, 528))\n",
    "for i in range(528):\n",
    "    for j in range(528):\n",
    "        if distances[i, j] > 4: #distance > 4  -> for not missing a positive video\n",
    "            our_labels[i, neighbors[i, j]] = 1"
   ]
  },
  {
   "cell_type": "code",
   "execution_count": null,
   "metadata": {
    "id": "WJn5Crr9yhOJ"
   },
   "outputs": [],
   "source": [
    "import glob\n",
    "import numpy as np\n",
    "import time\n",
    "gt_labels = np.zeros((528, 528))\n",
    "for i in range(528):\n",
    "    gt_labels[i, i] = 1\n",
    "ann_pths = glob.glob('annotation/*.*')\n",
    "for ann_pth in ann_pths:\n",
    "    with open(ann_pth, 'r') as f:\n",
    "        for line in f.readlines():\n",
    "            pair = line.strip().split(',')\n",
    "            i = vcdb_info['index'].index(pair[0].split('.')[0])\n",
    "            j = vcdb_info['index'].index(pair[1].split('.')[0])\n",
    "            gt_labels[i, j] = 1"
   ]
  },
  {
   "cell_type": "code",
   "execution_count": null,
   "metadata": {
    "colab": {
     "base_uri": "https://localhost:8080/"
    },
    "id": "d87Q6PsFzSVA",
    "outputId": "1cc0c868-f9b2-4227-f78e-8495dc851f6e"
   },
   "outputs": [
    {
     "data": {
      "text/plain": [
       "39.20992596418733"
      ]
     },
     "execution_count": 76,
     "metadata": {
      "tags": []
     },
     "output_type": "execute_result"
    }
   ],
   "source": [
    "accuracy = (gt_labels == our_labels).sum() * 100 / gt_labels.size\n",
    "accuracy"
   ]
  },
  {
   "cell_type": "code",
   "execution_count": null,
   "metadata": {
    "colab": {
     "base_uri": "https://localhost:8080/"
    },
    "id": "dzvrWC_O5M-v",
    "outputId": "eddb188b-2153-40c3-ce78-05c47cd84c22"
   },
   "outputs": [
    {
     "data": {
      "text/plain": [
       "78.74592833876221"
      ]
     },
     "execution_count": 77,
     "metadata": {
      "tags": []
     },
     "output_type": "execute_result"
    }
   ],
   "source": [
    "recall = 0\n",
    "posetives = np.where(gt_labels == 1)\n",
    "for i in range(len(posetives[0])):\n",
    "    x = posetives[0][i]\n",
    "    y = posetives[1][i]\n",
    "    recall += our_labels[x, y]\n",
    "recall = recall / len(posetives[0]) * 100\n",
    "recall"
   ]
  },
  {
   "cell_type": "code",
   "execution_count": null,
   "metadata": {
    "id": "qCnM1Xfv_JZ4"
   },
   "outputs": [],
   "source": [
    "# Marking a lot of video as a copy  ->  start finding real copies ->  Finding overlap by searching more toughly in fram levels"
   ]
  },
  {
   "cell_type": "code",
   "execution_count": null,
   "metadata": {
    "id": "zrsnQRCO_wVL"
   },
   "outputs": [],
   "source": [
    "..."
   ]
  },
  {
   "cell_type": "code",
   "execution_count": null,
   "metadata": {},
   "outputs": [],
   "source": [
    "#added\n",
    "for i in "
   ]
  }
 ],
 "metadata": {
  "accelerator": "GPU",
  "colab": {
   "collapsed_sections": [],
   "name": "video_search.ipynb",
   "provenance": []
  },
  "kernelspec": {
   "display_name": "Python 3",
   "language": "python",
   "name": "python3"
  },
  "language_info": {
   "codemirror_mode": {
    "name": "ipython",
    "version": 3
   },
   "file_extension": ".py",
   "mimetype": "text/x-python",
   "name": "python",
   "nbconvert_exporter": "python",
   "pygments_lexer": "ipython3",
   "version": "3.7.3"
  }
 },
 "nbformat": 4,
 "nbformat_minor": 1
}
